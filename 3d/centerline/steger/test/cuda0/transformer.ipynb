{
 "cells": [
  {
   "cell_type": "code",
   "execution_count": null,
   "metadata": {
    "vscode": {
     "languageId": "python"
    }
   },
   "outputs": [
    {
     "ename": "",
     "evalue": "",
     "output_type": "error",
     "traceback": [
      "\u001b[1;31mThe kernel died. Error: Traceback (most recent call last):\n",
      "\u001b[1;31m  File \"/usr/lib/python3.6/runpy.py\", line 193, in _run_module_as_main\n",
      "\u001b[1;31m    \"__main__\", mod_spec)\n",
      "\u001b[1;31m  File \"/usr/lib/python3.6/runpy.py\", line 85, in _run_code\n",
      "\u001b[1;31m    exec(code, run_globals)\n",
      "\u001b[1;31m  File \"/usr/lib/python3/dist-packages/xonsh/jupyter_kernel.py\", line 6, in <module>\n",
      "\u001b[1;31m    from ipykernel.kernelbase import Kernel\n",
      "\u001b[1;31mModuleNotFoundError: No module named 'ipykernel'... View Jupyter <a href='command:jupyter.viewOutput'>log</a> for further details."
     ]
    }
   ],
   "source": [
    "import torch\n",
    "import torch.nn as nn\n"
   ]
  }
 ],
 "metadata": {
  "kernelspec": {
   "display_name": "Xonsh",
   "language": "xonsh",
   "name": "xonsh"
  },
  "language_info": {
   "name": "xonsh"
  },
  "orig_nbformat": 4
 },
 "nbformat": 4,
 "nbformat_minor": 2
}
