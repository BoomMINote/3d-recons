{
 "cells": [
  {
   "cell_type": "code",
   "execution_count": 178,
   "metadata": {},
   "outputs": [],
   "source": [
    "import torch\n",
    "import torch.nn as nn\n",
    "import math\n",
    "class InputEmbeddings(nn.Module):\n",
    "    def __init__(self, d_model: int, vocab_size: int):\n",
    "        super(InputEmbeddings, self).__init__()\n",
    "        self.d_model = d_model\n",
    "        self.vocab_size = vocab_size\n",
    "        self.embedding = nn.Embedding(vocab_size, d_model)\n",
    "\n",
    "    def forward(self, x):\n",
    "        return self.embedding(x) * math.sqrt(self.d_model)\n",
    "\n",
    "# # Example usage\n",
    "# net = InputEmbeddings(d_model=100, vocab_size=2000)\n",
    "\n",
    "# # Generate random input tensor\n",
    "# batch_size = 10\n",
    "# seq_length = 20\n",
    "\n",
    "# input_data = torch.randint(0,100,(batch_size, seq_length))  # Convert to 'long' data type\n",
    "# print(input_data.shape)\n",
    "# # Pass the tensor input to the network\n",
    "# output = net(input_data)\n",
    "\n",
    "# print(output.shape)  # Output shape: (2, 5, 100)"
   ]
  },
  {
   "cell_type": "code",
   "execution_count": 179,
   "metadata": {},
   "outputs": [],
   "source": [
    "class PositionalEncoding(nn.Module):\n",
    "    def __init__(self,d_model:int,seq_length:int,dropout:float)->None: #->None means return nothing\n",
    "        super().__init__()\n",
    "        self.d_model = d_model\n",
    "        self.seq_len = seq_length\n",
    "        self.dropout = nn.Dropout(dropout)\n",
    "        pe = torch.zeros(seq_length, d_model)\n",
    "        position = torch.arange(0,seq_length,dtype=torch.float).unsqueeze(1)\n",
    "        div_term = torch.exp(torch.arange(0,d_model,2).float()*(-math.log(10000.0)/d_model))\n",
    "        pe[:,0::2] = torch.sin(position * div_term)\n",
    "        pe[:,1::2] = torch.cos(position * div_term)\n",
    "        # print(pe.shape)\n",
    "        pe = pe.unsqueeze(0) # (1,seq_len,d_model)\n",
    "        # print(pe.shape)\n",
    "        self.register_buffer('pe',pe)\n",
    "    def forward(self,x):\n",
    "        print(f\"tem pe: {self.pe[:,:x.shape[1],:].shape}\")\n",
    "        x = x + self.pe[:,:x.shape[1],:].requires_grad_(False)\n",
    "        return self.dropout(x)\n",
    "# input = torch.randint(0,100,(10,20))\n",
    "# em = InputEmbeddings(150,1200)\n",
    "# pe = PositionalEncoding(150,20,0.2)\n",
    "# out = em(input)\n",
    "# print(out.shape)\n",
    "# out = pe(out)\n",
    "# print(out.shape)"
   ]
  },
  {
   "cell_type": "code",
   "execution_count": 202,
   "metadata": {},
   "outputs": [
    {
     "name": "stdout",
     "output_type": "stream",
     "text": [
      "torch.Size([5, 10])\n"
     ]
    }
   ],
   "source": [
    "class LayerNormalization(nn.Module):\n",
    "    def __init__(self,eps: float = 10**-6)->None: # eps to a small number to avoid divide to 0\n",
    "        super().__init__()\n",
    "        self.eps = eps\n",
    "        self.alpha = nn.Parameter(torch.ones(1))\n",
    "        self.bias = nn.Parameter(torch.zeros(1))\n",
    "    \n",
    "    def forward(self, x):\n",
    "        mean = x.mean(dim=-1, keepdim=True)\n",
    "        std = x.std(dim=-1, keepdim = True)\n",
    "        return self.alpha * (x - mean) / (std + self.eps) + self.bias\n",
    "# tensor = torch.randn(5,10)\n",
    "# ln = LayerNormalization()\n",
    "# out = ln(tensor)\n",
    "# print(out.shape)\n",
    "        "
   ]
  },
  {
   "cell_type": "code",
   "execution_count": 206,
   "metadata": {},
   "outputs": [
    {
     "name": "stdout",
     "output_type": "stream",
     "text": [
      "torch.Size([10, 20, 100])\n"
     ]
    }
   ],
   "source": [
    "class FeedForwardBlock(nn.Module):\n",
    "    def __init__(self,d_model:int, dff:int, dropout:float)->None:\n",
    "        super().__init__()\n",
    "        self.linear_1 = nn.Linear(d_model, dff)\n",
    "        self.dropout = nn.Dropout(dropout)\n",
    "        self.linear_2 = nn.Linear(dff, d_model)\n",
    "    def forward(self,x):\n",
    "        # (batch, seq_len, d_model) -> (batch, seq_len, d_model)\n",
    "        return self.linear_2(self.dropout(torch.relu((self.linear_1(x)))))\n",
    "# x = torch.randn(10,20,100)\n",
    "# fw = FeedForwardBlock(100,1000,0.2)\n",
    "# out = fw(x)\n",
    "# print(out.shape)\n",
    "        "
   ]
  },
  {
   "cell_type": "code",
   "execution_count": null,
   "metadata": {},
   "outputs": [],
   "source": []
  },
  {
   "cell_type": "code",
   "execution_count": 180,
   "metadata": {},
   "outputs": [
    {
     "name": "stdout",
     "output_type": "stream",
     "text": [
      "torch.Size([20, 1])\n"
     ]
    }
   ],
   "source": [
    "seq_length = 20\n",
    "pos = torch.arange(0, seq_length, dtype=torch.float).unsqueeze(1)\n",
    "# pos = torch.arange(0, 10, dtype=torch.float)\n",
    "print(pos.shape)"
   ]
  },
  {
   "cell_type": "code",
   "execution_count": 181,
   "metadata": {},
   "outputs": [
    {
     "name": "stdout",
     "output_type": "stream",
     "text": [
      "torch.Size([50])\n"
     ]
    }
   ],
   "source": [
    "d_model = 100\n",
    "div_term = torch.exp(torch.arange(0,d_model,2).float()*(-math.log(10000.0)/d_model))\n",
    "print(div_term.shape)"
   ]
  },
  {
   "cell_type": "code",
   "execution_count": 182,
   "metadata": {},
   "outputs": [
    {
     "name": "stdout",
     "output_type": "stream",
     "text": [
      "torch.Size([20, 50])\n",
      "torch.Size([20, 25])\n",
      "torch.Size([20, 12])\n"
     ]
    }
   ],
   "source": [
    "out = torch.sin(pos * div_term)\n",
    "print(out.shape)\n",
    "out = out[:,0::2]# from 0, every 2 elem skip\n",
    "print(out.shape)\n",
    "out = out[:,1::2]# from 1, every 2 elem skip\n",
    "print(out.shape)\n"
   ]
  },
  {
   "cell_type": "code",
   "execution_count": 183,
   "metadata": {},
   "outputs": [
    {
     "name": "stdout",
     "output_type": "stream",
     "text": [
      "torch.Size([4, 1])\n",
      "torch.Size([3])\n",
      "tensor([[0, 2, 4],\n",
      "        [0, 3, 6],\n",
      "        [0, 4, 8],\n",
      "        [0, 1, 2]])\n",
      "torch.Size([4, 3])\n"
     ]
    }
   ],
   "source": [
    "div = torch.tensor([[2],[3],[4],[1]])\n",
    "print(a.shape)\n",
    "pos = torch.tensor([0, 1, 2])\n",
    "print(b.shape)\n",
    "print(a*b)\n",
    "print((a*b).shape)"
   ]
  },
  {
   "cell_type": "code",
   "execution_count": 194,
   "metadata": {},
   "outputs": [
    {
     "name": "stdout",
     "output_type": "stream",
     "text": [
      "torch.Size([2, 3])\n",
      "torch.Size([2, 1])\n"
     ]
    }
   ],
   "source": [
    "x = torch.tensor([[1,2.0,6],[3,4,7]])\n",
    "print(x.shape)\n",
    "out = x.mean(dim=-1,keepdim=True)\n",
    "print(out.shape)"
   ]
  },
  {
   "cell_type": "code",
   "execution_count": 195,
   "metadata": {},
   "outputs": [
    {
     "name": "stdout",
     "output_type": "stream",
     "text": [
      "torch.Size([2, 3])\n",
      "torch.Size([2, 1])\n"
     ]
    }
   ],
   "source": [
    "x = torch.tensor([[1,2.0,6],[3,4,7]])\n",
    "print(x.shape)\n",
    "out = x.std(dim=-1,keepdim=True)\n",
    "print(out.shape)"
   ]
  },
  {
   "cell_type": "code",
   "execution_count": 197,
   "metadata": {},
   "outputs": [
    {
     "name": "stdout",
     "output_type": "stream",
     "text": [
      "Parameter containing:\n",
      "tensor([1.], requires_grad=True)\n",
      "Parameter containing:\n",
      "tensor([0.], requires_grad=True)\n"
     ]
    }
   ],
   "source": [
    "out = nn.Parameter(torch.ones(1))\n",
    "print(out)\n",
    "out = nn.Parameter(torch.zeros(1))\n",
    "print(out)"
   ]
  }
 ],
 "metadata": {
  "kernelspec": {
   "display_name": "py37",
   "language": "python",
   "name": "python3"
  },
  "language_info": {
   "codemirror_mode": {
    "name": "ipython",
    "version": 3
   },
   "file_extension": ".py",
   "mimetype": "text/x-python",
   "name": "python",
   "nbconvert_exporter": "python",
   "pygments_lexer": "ipython3",
   "version": "3.7.0"
  },
  "orig_nbformat": 4
 },
 "nbformat": 4,
 "nbformat_minor": 2
}
